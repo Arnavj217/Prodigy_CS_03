{
 "cells": [
  {
   "cell_type": "code",
   "execution_count": 5,
   "id": "ce1f383a-aae6-4e42-98dc-54e3ee9a5af2",
   "metadata": {},
   "outputs": [
    {
     "name": "stdout",
     "output_type": "stream",
     "text": [
      "🔐 Welcome to the Cybersecurity Password Strength Checker!\n",
      "Type 'exit' to quit.\n",
      "\n"
     ]
    },
    {
     "name": "stdin",
     "output_type": "stream",
     "text": [
      "Enter your password:  aa@arnav\n"
     ]
    },
    {
     "name": "stdout",
     "output_type": "stream",
     "text": [
      "\n",
      "🔎 Password Strength: Medium\n",
      "⚠️ Your password can be improved:\n",
      "    ❌ Add at least one uppercase letter.\n",
      "    ❌ Add at least one number.\n"
     ]
    },
    {
     "name": "stdin",
     "output_type": "stream",
     "text": [
      "\n",
      "Would you like to re-enter a new password? (yes/no):  yes\n",
      "\n",
      "Enter your new password:  AA2006@arnav\n"
     ]
    },
    {
     "name": "stdout",
     "output_type": "stream",
     "text": [
      "\n",
      "🔎 Password Strength: Very Strong\n",
      "✅ Much better! Your new password is secure. 💪\n",
      "\n",
      "👋 Bye! Stay secure.\n"
     ]
    }
   ],
   "source": [
    "import re\n",
    "\n",
    "def check_password_strength(password):\n",
    "    score = 0\n",
    "    feedback = []\n",
    "\n",
    "    # Length check\n",
    "    if len(password) >= 12:\n",
    "        score += 2\n",
    "    elif len(password) >= 8:\n",
    "        score += 1\n",
    "    else:\n",
    "        feedback.append(\"❌ Password should be at least 8 characters long.\")\n",
    "\n",
    "    # Uppercase and lowercase\n",
    "    if re.search(r'[A-Z]', password):\n",
    "        score += 1\n",
    "    else:\n",
    "        feedback.append(\"❌ Add at least one uppercase letter.\")\n",
    "    if re.search(r'[a-z]', password):\n",
    "        score += 1\n",
    "    else:\n",
    "        feedback.append(\"❌ Add at least one lowercase letter.\")\n",
    "\n",
    "    # Digit\n",
    "    if re.search(r'\\d', password):\n",
    "        score += 1\n",
    "    else:\n",
    "        feedback.append(\"❌ Add at least one number.\")\n",
    "\n",
    "    # Special characters\n",
    "    if re.search(r'[@$!%*?&#+^()._\\-]', password):\n",
    "        score += 1\n",
    "    else:\n",
    "        feedback.append(\"❌ Add at least one special character (e.g., !, @, #).\")\n",
    "\n",
    "    # Rating\n",
    "    if score >= 6:\n",
    "        rating = \"Very Strong\"\n",
    "    elif score == 5:\n",
    "        rating = \"Strong\"\n",
    "    elif score >= 3:\n",
    "        rating = \"Medium\"\n",
    "    else:\n",
    "        rating = \"Weak\"\n",
    "\n",
    "    return rating, feedback\n",
    "\n",
    "def main():\n",
    "    print(\"🔐 Welcome to the Cybersecurity Password Strength Checker!\")\n",
    "    print(\"Type 'exit' to quit.\\n\")\n",
    "\n",
    "    password = input(\"Enter your password: \")\n",
    "    if password.lower() == 'exit':\n",
    "        print(\"👋 Bye! Stay secure.\")\n",
    "        return\n",
    "\n",
    "    strength, feedback = check_password_strength(password)\n",
    "    print(f\"\\n🔎 Password Strength: {strength}\")\n",
    "\n",
    "    if strength in [\"Very Strong\", \"Strong\"]:\n",
    "        print(\"✅ Excellent! Your password is secure. 💪\")\n",
    "        print(\"👋 Bye! Stay safe.\")\n",
    "        return\n",
    "    else:\n",
    "        print(\"⚠️ Your password can be improved:\")\n",
    "        for tip in feedback:\n",
    "            print(\"   \", tip)\n",
    "\n",
    "        # Ask user if they want to re-enter\n",
    "        choice = input(\"\\nWould you like to re-enter a new password? (yes/no): \").strip().lower()\n",
    "        if choice == \"yes\":\n",
    "            new_password = input(\"\\nEnter your new password: \")\n",
    "            if new_password.lower() == 'exit':\n",
    "                print(\"👋 Bye! Stay secure.\")\n",
    "                return\n",
    "            strength, feedback = check_password_strength(new_password)\n",
    "            print(f\"\\n🔎 Password Strength: {strength}\")\n",
    "            if strength in [\"Very Strong\", \"Strong\"]:\n",
    "                print(\"✅ Much better! Your new password is secure. 💪\")\n",
    "            else:\n",
    "                print(\"⚠️ Still needs improvement. Please use the suggestions.\")\n",
    "        print(\"\\n👋 Bye! Stay secure.\")\n",
    "\n",
    "if __name__ == \"__main__\":\n",
    "    main()\n"
   ]
  },
  {
   "cell_type": "code",
   "execution_count": null,
   "id": "ebd84bba-cc1d-4f10-889c-f2d30c09d627",
   "metadata": {},
   "outputs": [],
   "source": []
  }
 ],
 "metadata": {
  "kernelspec": {
   "display_name": "Python 3 (ipykernel)",
   "language": "python",
   "name": "python3"
  },
  "language_info": {
   "codemirror_mode": {
    "name": "ipython",
    "version": 3
   },
   "file_extension": ".py",
   "mimetype": "text/x-python",
   "name": "python",
   "nbconvert_exporter": "python",
   "pygments_lexer": "ipython3",
   "version": "3.12.7"
  }
 },
 "nbformat": 4,
 "nbformat_minor": 5
}
